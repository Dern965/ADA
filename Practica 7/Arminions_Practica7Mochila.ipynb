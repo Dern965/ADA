{
 "cells": [
  {
   "cell_type": "code",
   "execution_count": 4,
   "metadata": {},
   "outputs": [
    {
     "ename": "ValueError",
     "evalue": "Los arrays deben tener la misma longitud.",
     "output_type": "error",
     "traceback": [
      "\u001b[1;31m---------------------------------------------------------------------------\u001b[0m",
      "\u001b[1;31mValueError\u001b[0m                                Traceback (most recent call last)",
      "Cell \u001b[1;32mIn[4], line 31\u001b[0m\n\u001b[0;32m     29\u001b[0m \u001b[39m# Validar que todas las listas tengan la misma longitud\u001b[39;00m\n\u001b[0;32m     30\u001b[0m \u001b[39mif\u001b[39;00m \u001b[39mlen\u001b[39m(pesos) \u001b[39m!=\u001b[39m \u001b[39mlen\u001b[39m(valores):\n\u001b[1;32m---> 31\u001b[0m     \u001b[39mraise\u001b[39;00m \u001b[39mValueError\u001b[39;00m(\u001b[39m\"\u001b[39m\u001b[39mLos arrays deben tener la misma longitud.\u001b[39m\u001b[39m\"\u001b[39m)\n\u001b[0;32m     33\u001b[0m mochila, beneficio_total \u001b[39m=\u001b[39m mochila_fraccionaria(pesos, valores, capacidad_mochila)\n\u001b[0;32m     35\u001b[0m \u001b[39m# Crear DataFrame con los resultados\u001b[39;00m\n",
      "\u001b[1;31mValueError\u001b[0m: Los arrays deben tener la misma longitud."
     ]
    }
   ],
   "source": [
    "import pandas as pd\n",
    "import matplotlib.pyplot as plt\n",
    "\n",
    "def mochila_fraccionaria(pesos, valores, capacidad_mochila):\n",
    "    items = list(zip(pesos, valores))\n",
    "    items.sort(key=lambda x: x[1]/x[0], reverse=True)  # Ordenar por relación valor/peso en orden descendente\n",
    "    mochila = []\n",
    "    beneficio_total = 0\n",
    "\n",
    "    for peso, valor in items:\n",
    "        if capacidad_mochila == 0:\n",
    "            break\n",
    "        elif peso <= capacidad_mochila:\n",
    "            mochila.append(1)  # Agregar el objeto completo a la mochila\n",
    "            beneficio_total += valor\n",
    "            capacidad_mochila -= peso\n",
    "        else:\n",
    "            mochila.append(capacidad_mochila / peso)  # Agregar fracción del objeto a la mochila\n",
    "            beneficio_total += (capacidad_mochila / peso) * valor\n",
    "            capacidad_mochila = 0\n",
    "\n",
    "    return mochila, beneficio_total\n",
    "\n",
    "# Datos de ejemplo\n",
    "pesos = [50, 100, 125, 280, 300]\n",
    "valores = [60/10, 20/100, 30/130, 40/200]  # Adjusted values array with the last element removed\n",
    "capacidad_mochila = 500\n",
    "\n",
    "# Validar que todas las listas tengan la misma longitud\n",
    "if len(pesos) != len(valores):\n",
    "    raise ValueError(\"Los arrays deben tener la misma longitud.\")\n",
    "\n",
    "mochila, beneficio_total = mochila_fraccionaria(pesos, valores, capacidad_mochila)\n",
    "\n",
    "# Crear DataFrame con los resultados\n",
    "data = {'Peso': pesos, 'Valor': valores, 'Fracción en Mochila': mochila}\n",
    "df = pd.DataFrame(data)\n",
    "df['Beneficio'] = df['Fracción en Mochila'] * df['Valor']\n",
    "\n",
    "# Mostrar el DataFrame\n",
    "print(df)\n",
    "\n",
    "# Graficar\n",
    "plt.bar(df['Peso'], df['Beneficio'])\n",
    "plt.xlabel('Peso')\n",
    "plt.ylabel('Beneficio')\n",
    "plt.title('Beneficio de la mochila fraccionaria')\n",
    "plt.show()\n",
    "\n"
   ]
  }
 ],
 "metadata": {
  "kernelspec": {
   "display_name": "Python 3",
   "language": "python",
   "name": "python3"
  },
  "language_info": {
   "codemirror_mode": {
    "name": "ipython",
    "version": 3
   },
   "file_extension": ".py",
   "mimetype": "text/x-python",
   "name": "python",
   "nbconvert_exporter": "python",
   "pygments_lexer": "ipython3",
   "version": "3.11.2"
  },
  "orig_nbformat": 4
 },
 "nbformat": 4,
 "nbformat_minor": 2
}
