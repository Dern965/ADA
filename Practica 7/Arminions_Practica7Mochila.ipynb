{
 "cells": [
  {
   "cell_type": "markdown",
   "metadata": {},
   "source": [
    "# Práctica 7"
   ]
  },
  {
   "cell_type": "markdown",
   "metadata": {},
   "source": [
    "## Integrantes"
   ]
  },
  {
   "cell_type": "markdown",
   "metadata": {},
   "source": [
    "- García Saavedra Armando\n",
    "- Mejía Yañez José Ehecatl\n",
    "- Rodriguez Nuñez Diego Eduardo"
   ]
  },
  {
   "cell_type": "markdown",
   "metadata": {},
   "source": [
    "### Introducción y Metodología "
   ]
  },
  {
   "attachments": {},
   "cell_type": "markdown",
   "metadata": {},
   "source": [
    "El problema de la mochila fraccionaria es un desafío de optimización combinatoria en el que se busca\n",
    "llenar una mochila con un peso máximo dado, buscando maximizar el valor total de los elementos que\n",
    "se pueden colocar en ella. Este problema también se conoce como el problema de la mochila con\n",
    "divisibilidad.\n",
    "La programación voraz, o greedy, es un enfoque ampliamente utilizado para resolver este problema. En\n",
    "este enfoque, se toman decisiones en cada paso de manera voraz, seleccionando el objeto disponible\n",
    "con la relación valor-peso más alta y colocándolo en la mochila hasta que se alcance el límite de peso.\n",
    "\n",
    "El problema de la mochila fraccionaria puede describirse de la siguiente forma:\n",
    "• Ordena los elementos en función de su relación valor-peso en orden descendente.\n",
    "• Inicializa la mochila vacía y una variable para rastrear el valor total.\n",
    "• Para cada elemento en orden descendente de relación valor-peso: a. Si el peso del elemento es\n",
    "menor o igual al espacio restante en la mochila, coloca el elemento completo en la mochila y\n",
    "actualiza el espacio restante y el valor total. b. Si el peso del elemento es mayor que el espacio\n",
    "restante en la mochila calcula la fracción del elemento que cabe en la mochila (espacio restante\n",
    "dividido por el peso del elemento) y coloca esa fracción en la mochila. Actualiza el espacio\n",
    "restante y el valor total en consecuencia.\n",
    "• Devuelve el valor total y la configuración de la mochila.\n"
   ]
  },
  {
   "cell_type": "code",
   "execution_count": 2,
   "metadata": {},
   "outputs": [
    {
     "name": "stdout",
     "output_type": "stream",
     "text": [
      "Valor total de la mochila: 70.0\n",
      "Configuracion de la mochila:\n",
      "Peso: 10 Valor: 60\n",
      "Peso: 40 Valor: 10.0\n"
     ]
    }
   ],
   "source": [
    "def fraccional_knapsack(values, weights,capacity):\n",
    "    items = list(zip(values,weights))\n",
    "    items.sort(key=lambda x: x[0]/x[1], reverse=True)\n",
    "\n",
    "    total_value=0\n",
    "    knapsack = []\n",
    "    for item in items:\n",
    "        item_value, item_weight = item\n",
    "\n",
    "        if item_weight <= capacity:\n",
    "            knapsack.append((item_weight,item_value))\n",
    "            total_value += item_value\n",
    "            capacity -= item_weight\n",
    "        else:\n",
    "            fraction = capacity/item_weight\n",
    "            knapsack.append((capacity,fraction*item_value))\n",
    "            total_value += fraction*item_value\n",
    "            break\n",
    "    return total_value,knapsack\n",
    "\n",
    "\n",
    "#Ejemplo de uso\n",
    "values = [60,20,30,40]\n",
    "weights = [10,100,120,200]\n",
    "capacity = 50\n",
    "total_value, knapsack = fraccional_knapsack(values,weights,capacity)\n",
    "\n",
    "print(\"Valor total de la mochila:\", total_value)\n",
    "print(\"Configuracion de la mochila:\")\n",
    "for item in knapsack:\n",
    "    print(\"Peso:\",item[0],\"Valor:\",item[1])"
   ]
  },
  {
   "cell_type": "markdown",
   "metadata": {},
   "source": [
    "## Conclusiones"
   ]
  },
  {
   "attachments": {},
   "cell_type": "markdown",
   "metadata": {},
   "source": [
    "El problema de la mochila fraccionaria es un desafío de optimización combinatoria en el que se busca\n",
    "encontrar la mejor manera de llenar una mochila con un peso máximo dado, maximizando el valor total\n",
    "de los elementos que se pueden colocar en ella. La programación voraz es un enfoque comúnmente\n",
    "utilizado para resolver este problema.\n",
    "En la programación voraz, se toman decisiones en cada paso de manera voraz, eligiendo el objeto\n",
    "disponible con la mayor relación valor-peso y colocándolo en la mochila hasta que se alcance el límite\n",
    "de peso. Este enfoque proporciona una solución rápida, aunque no siempre garantiza la solución óptima\n",
    "en todos los casos"
   ]
  }
 ],
 "metadata": {
  "kernelspec": {
   "display_name": "Python 3",
   "language": "python",
   "name": "python3"
  },
  "language_info": {
   "codemirror_mode": {
    "name": "ipython",
    "version": 3
   },
   "file_extension": ".py",
   "mimetype": "text/x-python",
   "name": "python",
   "nbconvert_exporter": "python",
   "pygments_lexer": "ipython3",
   "version": "3.11.2"
  },
  "orig_nbformat": 4
 },
 "nbformat": 4,
 "nbformat_minor": 2
}
