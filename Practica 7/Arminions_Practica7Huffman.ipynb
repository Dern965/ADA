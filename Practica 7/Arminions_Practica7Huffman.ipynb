{
 "cells": [
  {
   "attachments": {},
   "cell_type": "markdown",
   "metadata": {},
   "source": [
    "# Práctica 7"
   ]
  },
  {
   "cell_type": "markdown",
   "metadata": {},
   "source": [
    "## Integrantes"
   ]
  },
  {
   "cell_type": "markdown",
   "metadata": {},
   "source": [
    "- García Saavedra Armando\n",
    "- Mejía Yañez José Ehecatl\n",
    "- Rodriguez Nuñez Diego Eduardo"
   ]
  },
  {
   "cell_type": "markdown",
   "metadata": {},
   "source": [
    "### Introducción y Metodología "
   ]
  },
  {
   "attachments": {},
   "cell_type": "markdown",
   "metadata": {},
   "source": [
    "Introducción:\n",
    "El algoritmo de Huffman es un método de compresión de datos que se basa en la construcción de un código binario óptimo para representar diferentes símbolos. Fue desarrollado por David A. Huffman en 1952 y es ampliamente utilizado en la compresión de archivos y transmisión de datos. El algoritmo se basa en una estrategia greedy (voraz) que busca minimizar la longitud promedio del código asignado a cada símbolo.\n",
    "\n",
    "Metodología resumida:\n",
    "\n",
    "Obtención de frecuencias: El primer paso consiste en analizar el conjunto de datos que se desea comprimir y determinar la frecuencia de aparición de cada símbolo. Esto puede hacerse mediante un análisis estadístico o un escaneo del archivo.\n",
    "\n",
    "Creación de nodos: Se crean nodos para cada símbolo, donde cada nodo contiene el símbolo y su frecuencia.\n",
    "\n",
    "Construcción del árbol: A partir de los nodos, se construye un árbol binario utilizando una estrategia greedy. En cada paso, se seleccionan los dos nodos con menor frecuencia y se combinan en un nuevo nodo padre cuya frecuencia es la suma de las frecuencias de los nodos hijos. Este proceso se repite hasta que solo queda un nodo raíz.\n",
    "\n",
    "Asignación de códigos: Se asignan códigos binarios a cada símbolo del árbol. Al recorrer el árbol desde la raíz hasta cada hoja, se asigna '0' al camino izquierdo y '1' al camino derecho. Los códigos asignados a los símbolos se basan en el camino desde la raíz hasta la hoja correspondiente.\n",
    "\n",
    "Generación de la tabla de códigos: Se crea una tabla que mapea cada símbolo a su código binario correspondiente. Esta tabla se utilizará para comprimir y descomprimir los datos.\n",
    "\n",
    "Compresión: Se recorre el archivo original y se reemplaza cada símbolo por su código binario correspondiente utilizando la tabla generada. Esto produce una versión comprimida del archivo original.\n",
    "\n",
    "Descompresión: Utilizando la misma tabla de códigos, se recorre el archivo comprimido y se reconstruye el archivo original reemplazando los códigos binarios por los símbolos originales.\n",
    "\n",
    "El algoritmo de Huffman, al utilizar una estrategia greedy, logra asignar códigos más cortos a los símbolos más frecuentes y códigos más largos a los símbolos menos frecuentes, lo que resulta en una compresión eficiente de los datos."
   ]
  },
  {
   "cell_type": "code",
   "execution_count": 3,
   "metadata": {},
   "outputs": [
    {
     "data": {
      "text/html": [
       "<div>\n",
       "<style scoped>\n",
       "    .dataframe tbody tr th:only-of-type {\n",
       "        vertical-align: middle;\n",
       "    }\n",
       "\n",
       "    .dataframe tbody tr th {\n",
       "        vertical-align: top;\n",
       "    }\n",
       "\n",
       "    .dataframe thead th {\n",
       "        text-align: right;\n",
       "    }\n",
       "</style>\n",
       "<table border=\"1\" class=\"dataframe\">\n",
       "  <thead>\n",
       "    <tr style=\"text-align: right;\">\n",
       "      <th></th>\n",
       "      <th>Simbolo</th>\n",
       "      <th>Frecuencia</th>\n",
       "      <th>Codigo</th>\n",
       "    </tr>\n",
       "  </thead>\n",
       "  <tbody>\n",
       "    <tr>\n",
       "      <th>0</th>\n",
       "      <td>D</td>\n",
       "      <td>1</td>\n",
       "      <td>00</td>\n",
       "    </tr>\n",
       "    <tr>\n",
       "      <th>1</th>\n",
       "      <td>Y</td>\n",
       "      <td>1</td>\n",
       "      <td>01</td>\n",
       "    </tr>\n",
       "    <tr>\n",
       "      <th>2</th>\n",
       "      <td>G</td>\n",
       "      <td>1</td>\n",
       "      <td>100</td>\n",
       "    </tr>\n",
       "    <tr>\n",
       "      <th>3</th>\n",
       "      <td>R</td>\n",
       "      <td>1</td>\n",
       "      <td>101</td>\n",
       "    </tr>\n",
       "    <tr>\n",
       "      <th>4</th>\n",
       "      <td>E</td>\n",
       "      <td>2</td>\n",
       "      <td>11</td>\n",
       "    </tr>\n",
       "  </tbody>\n",
       "</table>\n",
       "</div>"
      ],
      "text/plain": [
       "  Simbolo  Frecuencia Codigo\n",
       "0       D           1     00\n",
       "1       Y           1     01\n",
       "2       G           1    100\n",
       "3       R           1    101\n",
       "4       E           2     11"
      ]
     },
     "execution_count": 3,
     "metadata": {},
     "output_type": "execute_result"
    }
   ],
   "source": [
    "import pandas as pd\n",
    "import heapq\n",
    "\n",
    "class Nodo:\n",
    "    def __init__(self, symbol, freq, left=None, right=None):\n",
    "        self.symbol = symbol\n",
    "        self.freq = freq\n",
    "        self.left = left\n",
    "        self.right = right\n",
    "        self.huff = ''\n",
    "\n",
    "    def __lt__(self, nxt):\n",
    "        return self.freq < nxt.freq\n",
    "\n",
    "def imprimeNodo(nodo, val='', codigos_huffman=[]):\n",
    "    newVal = val + str(nodo.huff)\n",
    "\n",
    "    if nodo.left:\n",
    "        imprimeNodo(nodo.left, newVal, codigos_huffman)\n",
    "    if nodo.right:\n",
    "        imprimeNodo(nodo.right, newVal, codigos_huffman)\n",
    "\n",
    "    if not nodo.left and not nodo.right:\n",
    "        codigos_huffman.append({\n",
    "            'Simbolo': nodo.symbol,\n",
    "            'Frecuencia': nodo.freq,\n",
    "            'Codigo': newVal\n",
    "        })\n",
    "\n",
    "# Obtener la cadena del usuario\n",
    "cadena = input(\"Ingrese una cadena: \")\n",
    "\n",
    "# Crear un diccionario para almacenar las frecuencias de los caracteres\n",
    "frecuencias = {}\n",
    "\n",
    "# Calcular las frecuencias de los caracteres en la cadena\n",
    "for char in cadena:\n",
    "    if char in frecuencias:\n",
    "        frecuencias[char] += 1\n",
    "    else:\n",
    "        frecuencias[char] = 1\n",
    "\n",
    "# Crear una lista de nodos utilizando las frecuencias de los caracteres\n",
    "nodos = []\n",
    "for symbol, freq in frecuencias.items():\n",
    "    heapq.heappush(nodos, Nodo(symbol, freq))\n",
    "\n",
    "# Construir el árbol de Huffman\n",
    "while len(nodos) > 1:\n",
    "    left = heapq.heappop(nodos)\n",
    "    right = heapq.heappop(nodos)\n",
    "\n",
    "    left.huff = '0'\n",
    "    right.huff = '1'\n",
    "\n",
    "    newNodo = Nodo(left.symbol + right.symbol, left.freq + right.freq, left, right)\n",
    "\n",
    "    heapq.heappush(nodos, newNodo)\n",
    "\n",
    "# Obtener los códigos Huffman resultantes en forma de lista de diccionarios\n",
    "codigos_huffman = []\n",
    "imprimeNodo(nodos[0], codigos_huffman=codigos_huffman)\n",
    "\n",
    "# Crear un DataFrame con los caracteres, frecuencias y códigos Huffman\n",
    "df = pd.DataFrame(codigos_huffman)\n",
    "df\n"
   ]
  },
  {
   "cell_type": "markdown",
   "metadata": {},
   "source": [
    "## Conclusiones"
   ]
  },
  {
   "attachments": {},
   "cell_type": "markdown",
   "metadata": {},
   "source": [
    "En conclusión, el algoritmo de Huffman utilizando la estrategia greedy es un método eficaz para la compresión de datos. La construcción de un árbol binario óptimo basado en la frecuencia de los símbolos permite asignar códigos más cortos a los símbolos más frecuentes, lo que resulta en una compresión más eficiente. El proceso de compresión y descompresión se basa en la generación de una tabla de códigos que permite reemplazar los símbolos originales por códigos binarios y viceversa. Este algoritmo ha demostrado ser ampliamente utilizado en la compresión de archivos y transmisión de datos debido a su capacidad para reducir el tamaño de los datos sin perder información. El enfoque greedy utilizado en Huffman asegura que cada decisión tomada durante el proceso de construcción del árbol sea óptima en términos de minimizar la longitud promedio de los códigos asignados. En resumen, el algoritmo de Huffman con estrategia greedy es una herramienta valiosa para la compresión de datos, ofreciendo una alta eficiencia y una relación de compresión significativa."
   ]
  }
 ],
 "metadata": {
  "kernelspec": {
   "display_name": "Python 3",
   "language": "python",
   "name": "python3"
  },
  "language_info": {
   "codemirror_mode": {
    "name": "ipython",
    "version": 3
   },
   "file_extension": ".py",
   "mimetype": "text/x-python",
   "name": "python",
   "nbconvert_exporter": "python",
   "pygments_lexer": "ipython3",
   "version": "3.11.2"
  },
  "orig_nbformat": 4
 },
 "nbformat": 4,
 "nbformat_minor": 2
}
