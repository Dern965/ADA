{
 "cells": [
  {
   "cell_type": "markdown",
   "metadata": {},
   "source": [
    "# Práctica 7"
   ]
  },
  {
   "cell_type": "markdown",
   "metadata": {},
   "source": [
    "## Integrantes"
   ]
  },
  {
   "cell_type": "markdown",
   "metadata": {},
   "source": [
    "- García Saavedra Armando\n",
    "- Mejía Yañez José Ehecatl\n",
    "- Rodriguez Nuñez Diego Eduardo"
   ]
  },
  {
   "cell_type": "markdown",
   "metadata": {},
   "source": [
    "### Introducción y Metodología "
   ]
  },
  {
   "attachments": {},
   "cell_type": "markdown",
   "metadata": {},
   "source": [
    "Introducción:\n",
    "El problema de cambio de monedas es un clásico en la teoría de algoritmos y se refiere a la tarea de encontrar la combinación óptima de monedas para dar un cambio específico con la menor cantidad de monedas posibles. Hay diferentes variantes del problema, como el uso de monedas ilimitadas o limitadas en cantidad.\n",
    "\n",
    "Metodología:\n",
    "Para abordar el problema del cambio de monedas, se puede utilizar una estrategia algorítmica conocida como Greedy (voraz). La idea principal detrás del enfoque Greedy es seleccionar en cada paso la moneda de mayor valor disponible que sea menor o igual al monto restante por devolver.\n",
    "\n",
    "En el caso de monedas ilimitadas, el algoritmo Greedy simplemente selecciona la moneda de mayor valor disponible y la repite hasta que el cambio se complete. No es necesario preocuparse por la cantidad de monedas disponibles.\n",
    "\n",
    "En el caso de monedas limitadas, el algoritmo Greedy también selecciona la moneda de mayor valor disponible, pero se debe tener en cuenta la cantidad de monedas disponibles para cada denominación. Se selecciona la cantidad máxima de monedas de esa denominación que no exceda la cantidad disponible y se repite el proceso hasta completar el cambio.\n",
    "\n",
    "Es importante destacar que el algoritmo Greedy no siempre garantiza la solución óptima en términos de la cantidad mínima de monedas utilizadas. Sin embargo, en el caso específico de las denominaciones 10, 5, 2 y 1, el algoritmo Greedy dará la solución óptima tanto para monedas ilimitadas como para monedas limitadas."
   ]
  },
  {
   "cell_type": "code",
   "execution_count": 10,
   "metadata": {},
   "outputs": [
    {
     "data": {
      "text/html": [
       "<div>\n",
       "<style scoped>\n",
       "    .dataframe tbody tr th:only-of-type {\n",
       "        vertical-align: middle;\n",
       "    }\n",
       "\n",
       "    .dataframe tbody tr th {\n",
       "        vertical-align: top;\n",
       "    }\n",
       "\n",
       "    .dataframe thead th {\n",
       "        text-align: right;\n",
       "    }\n",
       "</style>\n",
       "<table border=\"1\" class=\"dataframe\">\n",
       "  <thead>\n",
       "    <tr style=\"text-align: right;\">\n",
       "      <th></th>\n",
       "      <th>Amount</th>\n",
       "      <th>10</th>\n",
       "      <th>5</th>\n",
       "      <th>2</th>\n",
       "      <th>1</th>\n",
       "    </tr>\n",
       "  </thead>\n",
       "  <tbody>\n",
       "    <tr>\n",
       "      <th>0</th>\n",
       "      <td>94</td>\n",
       "      <td>9</td>\n",
       "      <td>0</td>\n",
       "      <td>2</td>\n",
       "      <td>0</td>\n",
       "    </tr>\n",
       "    <tr>\n",
       "      <th>1</th>\n",
       "      <td>182</td>\n",
       "      <td>18</td>\n",
       "      <td>0</td>\n",
       "      <td>1</td>\n",
       "      <td>0</td>\n",
       "    </tr>\n",
       "    <tr>\n",
       "      <th>2</th>\n",
       "      <td>223</td>\n",
       "      <td>22</td>\n",
       "      <td>0</td>\n",
       "      <td>1</td>\n",
       "      <td>1</td>\n",
       "    </tr>\n",
       "    <tr>\n",
       "      <th>3</th>\n",
       "      <td>358</td>\n",
       "      <td>30</td>\n",
       "      <td>11</td>\n",
       "      <td>1</td>\n",
       "      <td>1</td>\n",
       "    </tr>\n",
       "    <tr>\n",
       "      <th>4</th>\n",
       "      <td>499</td>\n",
       "      <td>30</td>\n",
       "      <td>39</td>\n",
       "      <td>2</td>\n",
       "      <td>0</td>\n",
       "    </tr>\n",
       "  </tbody>\n",
       "</table>\n",
       "</div>"
      ],
      "text/plain": [
       "   Amount  10   5  2  1\n",
       "0      94   9   0  2  0\n",
       "1     182  18   0  1  0\n",
       "2     223  22   0  1  1\n",
       "3     358  30  11  1  1\n",
       "4     499  30  39  2  0"
      ]
     },
     "execution_count": 10,
     "metadata": {},
     "output_type": "execute_result"
    }
   ],
   "source": [
    "import pandas as pd\n",
    "\n",
    "def greedy_change_limited(amount, coins_available):\n",
    "    coins = [10, 5, 2, 1]  # Denominaciones de monedas disponibles\n",
    "    result = {coin: 0 for coin in coins}  # Inicializar el diccionario de resultados con 0 monedas para cada denominación\n",
    "\n",
    "    for coin in coins:\n",
    "        coin_count = min(coins_available[coin], amount // coin)  # Cantidad máxima de monedas de esa denominación a utilizar\n",
    "        result[coin] = coin_count  # Registrar la cantidad de monedas utilizadas\n",
    "        amount -= coin * coin_count  # Restamos el valor total de las monedas utilizadas\n",
    "\n",
    "    if amount > 0:\n",
    "        return None  # Devolvemos None para indicar que no es posible dar el cambio exacto\n",
    "\n",
    "    return result\n",
    "\n",
    "# Ejemplo de uso\n",
    "amounts = [94, 182, 223, 358, 499]\n",
    "coins_available = {1: 8, 2: 20, 5: 50, 10: 30}  # Cantidad de monedas disponibles para cada denominación\n",
    "results = []\n",
    "\n",
    "for amount in amounts:\n",
    "    result = greedy_change_limited(amount, coins_available)\n",
    "    if result is None:\n",
    "        print(f\"No es posible dar cambio exacto para {amount}\")\n",
    "    else:\n",
    "        results.append(result)\n",
    "\n",
    "df = pd.DataFrame(results)\n",
    "df.insert(0, \"Amount\", amounts)\n",
    "df = df.fillna(0)  # Rellenar los valores faltantes con 0 si no se utilizó una determinada moneda\n",
    "df"
   ]
  },
  {
   "cell_type": "code",
   "execution_count": 11,
   "metadata": {},
   "outputs": [
    {
     "data": {
      "text/html": [
       "<div>\n",
       "<style scoped>\n",
       "    .dataframe tbody tr th:only-of-type {\n",
       "        vertical-align: middle;\n",
       "    }\n",
       "\n",
       "    .dataframe tbody tr th {\n",
       "        vertical-align: top;\n",
       "    }\n",
       "\n",
       "    .dataframe thead th {\n",
       "        text-align: right;\n",
       "    }\n",
       "</style>\n",
       "<table border=\"1\" class=\"dataframe\">\n",
       "  <thead>\n",
       "    <tr style=\"text-align: right;\">\n",
       "      <th></th>\n",
       "      <th>Amount</th>\n",
       "      <th>10</th>\n",
       "      <th>5</th>\n",
       "      <th>2</th>\n",
       "      <th>1</th>\n",
       "    </tr>\n",
       "  </thead>\n",
       "  <tbody>\n",
       "    <tr>\n",
       "      <th>0</th>\n",
       "      <td>94</td>\n",
       "      <td>9</td>\n",
       "      <td>0</td>\n",
       "      <td>2</td>\n",
       "      <td>0</td>\n",
       "    </tr>\n",
       "    <tr>\n",
       "      <th>1</th>\n",
       "      <td>182</td>\n",
       "      <td>18</td>\n",
       "      <td>0</td>\n",
       "      <td>1</td>\n",
       "      <td>0</td>\n",
       "    </tr>\n",
       "    <tr>\n",
       "      <th>2</th>\n",
       "      <td>223</td>\n",
       "      <td>22</td>\n",
       "      <td>0</td>\n",
       "      <td>1</td>\n",
       "      <td>1</td>\n",
       "    </tr>\n",
       "    <tr>\n",
       "      <th>3</th>\n",
       "      <td>358</td>\n",
       "      <td>35</td>\n",
       "      <td>1</td>\n",
       "      <td>1</td>\n",
       "      <td>1</td>\n",
       "    </tr>\n",
       "    <tr>\n",
       "      <th>4</th>\n",
       "      <td>499</td>\n",
       "      <td>49</td>\n",
       "      <td>1</td>\n",
       "      <td>2</td>\n",
       "      <td>0</td>\n",
       "    </tr>\n",
       "  </tbody>\n",
       "</table>\n",
       "</div>"
      ],
      "text/plain": [
       "   Amount  10  5  2  1\n",
       "0      94   9  0  2  0\n",
       "1     182  18  0  1  0\n",
       "2     223  22  0  1  1\n",
       "3     358  35  1  1  1\n",
       "4     499  49  1  2  0"
      ]
     },
     "execution_count": 11,
     "metadata": {},
     "output_type": "execute_result"
    }
   ],
   "source": [
    "import pandas as pd\n",
    "\n",
    "def greedy_change_unlimited(amount):\n",
    "    coins = [10, 5, 2, 1]  # Denominaciones de monedas disponibles\n",
    "    result = {coin: 0 for coin in coins}  # Inicializar el diccionario de resultados con 0 monedas para cada denominación\n",
    "\n",
    "    for coin in coins:\n",
    "        coin_count = amount // coin  # Cantidad máxima de monedas de esa denominación a utilizar\n",
    "        result[coin] = coin_count  # Registrar la cantidad de monedas utilizadas\n",
    "        amount -= coin * coin_count  # Restamos el valor total de las monedas utilizadas\n",
    "\n",
    "    if amount > 0:\n",
    "        return None  # Devolvemos None para indicar que no es posible dar el cambio exacto\n",
    "\n",
    "    return result\n",
    "\n",
    "# Ejemplo de uso\n",
    "amounts = [94, 182, 223, 358, 499]\n",
    "results = []\n",
    "\n",
    "for amount in amounts:\n",
    "    result = greedy_change_unlimited(amount)\n",
    "    if result is None:\n",
    "        print(f\"No es posible dar cambio exacto para {amount}\")\n",
    "    else:\n",
    "        results.append(result)\n",
    "\n",
    "df = pd.DataFrame(results)\n",
    "df.insert(0, \"Amount\", amounts)\n",
    "df = df.fillna(0)  # Rellenar los valores faltantes con 0 si no se utilizó una determinada moneda\n",
    "df"
   ]
  },
  {
   "cell_type": "markdown",
   "metadata": {},
   "source": [
    "## Conclusiones"
   ]
  },
  {
   "attachments": {},
   "cell_type": "markdown",
   "metadata": {},
   "source": [
    "En conclusión, el problema del cambio de monedas es un desafío clásico en la teoría de algoritmos que implica encontrar la combinación óptima de monedas para dar un cambio específico con la menor cantidad de monedas posibles. El enfoque Greedy proporciona una estrategia simple pero efectiva para abordar este problema.\n",
    "\n",
    "El algoritmo Greedy se basa en seleccionar en cada paso la moneda de mayor valor disponible que sea menor o igual al monto restante por devolver. En el caso de monedas ilimitadas, el algoritmo selecciona la moneda de mayor valor y la repite hasta completar el cambio. Por otro lado, en el caso de monedas limitadas, se debe considerar la cantidad de monedas disponibles para cada denominación y seleccionar la cantidad máxima que no exceda esa cantidad.\n",
    "\n",
    "Aunque el enfoque Greedy no garantiza siempre la solución óptima en términos de la cantidad mínima de monedas utilizadas, en el caso específico de las denominaciones 10, 5, 2 y 1, el algoritmo Greedy proporciona la solución óptima tanto para monedas ilimitadas como para monedas limitadas.\n",
    "\n",
    "En resumen, el algoritmo Greedy es una opción eficiente y sencilla para abordar el problema del cambio de monedas, proporcionando soluciones rápidas y aceptables en la mayoría de los casos. Sin embargo, es importante tener en cuenta las limitaciones y considerar otras estrategias más complejas si se necesita una solución óptima en todos los casos posibles."
   ]
  }
 ],
 "metadata": {
  "kernelspec": {
   "display_name": "Python 3",
   "language": "python",
   "name": "python3"
  },
  "language_info": {
   "codemirror_mode": {
    "name": "ipython",
    "version": 3
   },
   "file_extension": ".py",
   "mimetype": "text/x-python",
   "name": "python",
   "nbconvert_exporter": "python",
   "pygments_lexer": "ipython3",
   "version": "3.11.2"
  },
  "orig_nbformat": 4
 },
 "nbformat": 4,
 "nbformat_minor": 2
}
