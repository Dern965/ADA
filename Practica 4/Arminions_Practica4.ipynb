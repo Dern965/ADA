{
 "cells": [
  {
   "cell_type": "markdown",
   "metadata": {},
   "source": [
    "# Práctica 3"
   ]
  },
  {
   "cell_type": "markdown",
   "metadata": {},
   "source": [
    "## Integrantes:"
   ]
  },
  {
   "cell_type": "markdown",
   "metadata": {},
   "source": [
    "\n",
    "- García Saavedra Armando\n",
    "- Mejía Yañez José Ehecatl\n",
    "- Rodriguez Nuñez Diego Eduardo"
   ]
  },
  {
   "cell_type": "code",
   "execution_count": 16,
   "metadata": {},
   "outputs": [
    {
     "name": "stdout",
     "output_type": "stream",
     "text": [
      "Multiplicación 4 x 4:\n",
      "Resultado Karatsuba: 16\n",
      "Resultado Tradicional: 16\n",
      "Tiempo Karatsuba: 0.0001553000183776021 segundos\n",
      "Tiempo Tradicional: 0.00029039999935775995 segundos\n",
      "-------------------\n",
      "Multiplicación 6 x 6:\n",
      "Resultado Karatsuba: 36\n",
      "Resultado Tradicional: 36\n",
      "Tiempo Karatsuba: 8.080003317445517e-05 segundos\n",
      "Tiempo Tradicional: 0.00025679997634142637 segundos\n",
      "-------------------\n",
      "Multiplicación 8 x 8:\n",
      "Resultado Karatsuba: 64\n",
      "Resultado Tradicional: 64\n",
      "Tiempo Karatsuba: 8.080003317445517e-05 segundos\n",
      "Tiempo Tradicional: 0.000358999939635396 segundos\n",
      "-------------------\n",
      "Multiplicación 10 x 10:\n",
      "Resultado Karatsuba: 100\n",
      "Resultado Tradicional: 100\n",
      "Tiempo Karatsuba: 0.0006279000081121922 segundos\n",
      "Tiempo Tradicional: 0.00038189999759197235 segundos\n",
      "-------------------\n",
      "Multiplicación 100 x 100:\n",
      "Resultado Karatsuba: 10000\n",
      "Resultado Tradicional: 10000\n",
      "Tiempo Karatsuba: 0.0015811000484973192 segundos\n",
      "Tiempo Tradicional: 0.0035404000664129853 segundos\n",
      "-------------------\n"
     ]
    }
   ],
   "source": [
    "import timeit\n",
    "\n",
    "def karatsuba(x, y):\n",
    "    if x < 10 or y < 10:\n",
    "        return x * y\n",
    "\n",
    "    n = max(x.bit_length(), y.bit_length())\n",
    "    half = (n + 1) // 2\n",
    "    mask = (1 << half) - 1\n",
    "\n",
    "    a = x >> half\n",
    "    b = x & mask\n",
    "    c = y >> half\n",
    "    d = y & mask\n",
    "\n",
    "    ac = karatsuba(a, c)\n",
    "    bd = karatsuba(b, d)\n",
    "    p = karatsuba(a + b, c + d)\n",
    "\n",
    "    ad_plus_bc = p - ac - bd\n",
    "\n",
    "    result = (ac << (2 * half)) + (ad_plus_bc << half) + bd\n",
    "\n",
    "    return result\n",
    "\n",
    "def multiplicacion_tradicional(x, y):\n",
    "    result = 0\n",
    "    while y > 0:\n",
    "        result += x\n",
    "        y -= 1\n",
    "    return result\n",
    "\n",
    "numeros = [(4, 4), (6, 6), (8, 8), (10, 10), (100, 100)]\n",
    "\n",
    "for x, y in numeros:\n",
    "    resultado_karatsuba = karatsuba(x, y)\n",
    "    resultado_tradicional = multiplicacion_tradicional(x, y)\n",
    "\n",
    "    tiempo_karatsuba = timeit.timeit(lambda: karatsuba(x, y), number=1000)\n",
    "    tiempo_tradicional = timeit.timeit(lambda: multiplicacion_tradicional(x, y), number=1000)\n",
    "\n",
    "    print(f\"Multiplicación {x} x {y}:\")\n",
    "    print(f\"Resultado Karatsuba: {resultado_karatsuba}\")\n",
    "    print(f\"Resultado Tradicional: {resultado_tradicional}\")\n",
    "    print(f\"Tiempo Karatsuba: {tiempo_karatsuba} segundos\")\n",
    "    print(f\"Tiempo Tradicional: {tiempo_tradicional} segundos\")\n",
    "    print(\"-------------------\")"
   ]
  }
 ],
 "metadata": {
  "kernelspec": {
   "display_name": "Python 3",
   "language": "python",
   "name": "python3"
  },
  "language_info": {
   "codemirror_mode": {
    "name": "ipython",
    "version": 3
   },
   "file_extension": ".py",
   "mimetype": "text/x-python",
   "name": "python",
   "nbconvert_exporter": "python",
   "pygments_lexer": "ipython3",
   "version": "3.11.2"
  },
  "orig_nbformat": 4
 },
 "nbformat": 4,
 "nbformat_minor": 2
}
