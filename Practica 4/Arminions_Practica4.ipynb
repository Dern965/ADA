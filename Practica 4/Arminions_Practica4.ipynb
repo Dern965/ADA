{
 "cells": [
  {
   "attachments": {},
   "cell_type": "markdown",
   "metadata": {},
   "source": [
    "# Práctica 4"
   ]
  },
  {
   "cell_type": "markdown",
   "metadata": {},
   "source": [
    "## Integrantes:"
   ]
  },
  {
   "cell_type": "markdown",
   "metadata": {},
   "source": [
    "\n",
    "- García Saavedra Armando\n",
    "- Mejía Yañez José Ehecatl\n",
    "- Rodriguez Nuñez Diego Eduardo"
   ]
  },
  {
   "attachments": {},
   "cell_type": "markdown",
   "metadata": {},
   "source": [
    "***\n",
    "# Introducción:\n",
    "En esta práctica observaremos un algoritmo que nos permite mayor eficacia al momento de realizar una\n",
    "multiplicación de números, para ello veremos Divide and Conquer y la representación binaria de un número \n",
    "decimal. Además el algoritmo se apoya en el despeje y factorización de algunas ecuaciones, para tranformar\n",
    "la manera tradicional la cual toma una complejidad de O(n^2) en una complejidad de O(n^(log2(3))),\n",
    "donde n representa el log2(num) + 1, apoyandose en el mismo proceso tradicional pero al aplicar Divide and \n",
    "Conquer y la representación de la ecuación de multiplicacion en binario obtiene una ecuación de recurrencia\n",
    "T(n) = 3T(n/2) + O(n)."
   ]
  },
  {
   "cell_type": "code",
   "execution_count": 1,
   "metadata": {},
   "outputs": [
    {
     "name": "stdout",
     "output_type": "stream",
     "text": [
      "Multiplicación 4 x 4:\n",
      "Resultado Karatsuba: 16\n",
      "Resultado Tradicional: 16\n",
      "Tiempo Karatsuba: 8.00006091594696e-07 segundos\n",
      "Tiempo Tradicional: 5.00003807246685e-07 segundos\n",
      "-------------------\n",
      "Multiplicación 6 x 6:\n",
      "Resultado Karatsuba: 36\n",
      "Resultado Tradicional: 36\n",
      "Tiempo Karatsuba: 1.00000761449337e-06 segundos\n",
      "Tiempo Tradicional: 6.00004568696022e-07 segundos\n",
      "-------------------\n",
      "Multiplicación 8 x 8:\n",
      "Resultado Karatsuba: 64\n",
      "Resultado Tradicional: 64\n",
      "Tiempo Karatsuba: 5.00003807246685e-07 segundos\n",
      "Tiempo Tradicional: 4.00003045797348e-07 segundos\n",
      "-------------------\n",
      "Multiplicación 10 x 10:\n",
      "Resultado Karatsuba: 100\n",
      "Resultado Tradicional: 100\n",
      "Tiempo Karatsuba: 2.400018274784088e-06 segundos\n",
      "Tiempo Tradicional: 5.00003807246685e-07 segundos\n",
      "-------------------\n",
      "Multiplicación 100 x 100:\n",
      "Resultado Karatsuba: 10000\n",
      "Resultado Tradicional: 10000\n",
      "Tiempo Karatsuba: 2.599903382360935e-06 segundos\n",
      "Tiempo Tradicional: 4.00003045797348e-07 segundos\n",
      "-------------------\n"
     ]
    }
   ],
   "source": [
    "import timeit\n",
    "import pandas as pd\n",
    "import matplotlib.pyplot as plt\n",
    "\n",
    "def karatsuba(x, y):\n",
    "    if x < 10 or y < 10:\n",
    "        return x * y\n",
    "\n",
    "    n = max(x.bit_length(), y.bit_length())\n",
    "    half = (n + 1) // 2\n",
    "    mask = (1 << half) - 1\n",
    "\n",
    "    a = x >> half\n",
    "    b = x & mask\n",
    "    c = y >> half\n",
    "    d = y & mask\n",
    "\n",
    "    ac = karatsuba(a, c)\n",
    "    bd = karatsuba(b, d)\n",
    "    p = karatsuba(a + b, c + d)\n",
    "\n",
    "    ad_plus_bc = p - ac - bd\n",
    "\n",
    "    result = (ac << (2 * half)) + (ad_plus_bc << half) + bd\n",
    "\n",
    "    return result\n",
    "\n",
    "def multiplicacion_tradicional(x, y):\n",
    "    return x*y\n",
    "\n",
    "numeros = [(4, 4), (6, 6), (8, 8), (10, 10), (100, 100)]\n",
    "\n",
    "tiempos_karatsuba = []\n",
    "tiempos_tradicional = []  \n",
    "\n",
    "for x, y in numeros:\n",
    "    resultado_karatsuba = karatsuba(x, y)\n",
    "    resultado_tradicional = multiplicacion_tradicional(x, y)\n",
    "\n",
    "    tiempo_karatsuba = timeit.timeit(lambda: karatsuba(x, y), number=1)\n",
    "    tiempo_tradicional = timeit.timeit(lambda: multiplicacion_tradicional(x, y), number=1)\n",
    "\n",
    "    tiempos_karatsuba.append(tiempo_karatsuba)\n",
    "    tiempos_tradicional.append(tiempo_tradicional)\n",
    "\n",
    "    print(f\"Multiplicación {x} x {y}:\")\n",
    "    print(f\"Resultado Karatsuba: {resultado_karatsuba}\")\n",
    "    print(f\"Resultado Tradicional: {resultado_tradicional}\")\n",
    "    print(f\"Tiempo Karatsuba: {tiempo_karatsuba} segundos\")\n",
    "    print(f\"Tiempo Tradicional: {tiempo_tradicional} segundos\")\n",
    "    print(\"-------------------\")"
   ]
  },
  {
   "attachments": {},
   "cell_type": "markdown",
   "metadata": {},
   "source": [
    "***\n",
    "# Graficación y tabulación"
   ]
  },
  {
   "cell_type": "code",
   "execution_count": 2,
   "metadata": {},
   "outputs": [
    {
     "data": {
      "text/html": [
       "<div>\n",
       "<style scoped>\n",
       "    .dataframe tbody tr th:only-of-type {\n",
       "        vertical-align: middle;\n",
       "    }\n",
       "\n",
       "    .dataframe tbody tr th {\n",
       "        vertical-align: top;\n",
       "    }\n",
       "\n",
       "    .dataframe thead th {\n",
       "        text-align: right;\n",
       "    }\n",
       "</style>\n",
       "<table border=\"1\" class=\"dataframe\">\n",
       "  <thead>\n",
       "    <tr style=\"text-align: right;\">\n",
       "      <th></th>\n",
       "      <th>Numeros</th>\n",
       "      <th>Tiempo Karatsuba</th>\n",
       "      <th>Tiempo Tradicional</th>\n",
       "    </tr>\n",
       "  </thead>\n",
       "  <tbody>\n",
       "    <tr>\n",
       "      <th>0</th>\n",
       "      <td>(4, 4)</td>\n",
       "      <td>8.000061e-07</td>\n",
       "      <td>5.000038e-07</td>\n",
       "    </tr>\n",
       "    <tr>\n",
       "      <th>1</th>\n",
       "      <td>(6, 6)</td>\n",
       "      <td>1.000008e-06</td>\n",
       "      <td>6.000046e-07</td>\n",
       "    </tr>\n",
       "    <tr>\n",
       "      <th>2</th>\n",
       "      <td>(8, 8)</td>\n",
       "      <td>5.000038e-07</td>\n",
       "      <td>4.000030e-07</td>\n",
       "    </tr>\n",
       "    <tr>\n",
       "      <th>3</th>\n",
       "      <td>(10, 10)</td>\n",
       "      <td>2.400018e-06</td>\n",
       "      <td>5.000038e-07</td>\n",
       "    </tr>\n",
       "    <tr>\n",
       "      <th>4</th>\n",
       "      <td>(100, 100)</td>\n",
       "      <td>2.599903e-06</td>\n",
       "      <td>4.000030e-07</td>\n",
       "    </tr>\n",
       "  </tbody>\n",
       "</table>\n",
       "</div>"
      ],
      "text/plain": [
       "      Numeros  Tiempo Karatsuba  Tiempo Tradicional\n",
       "0      (4, 4)      8.000061e-07        5.000038e-07\n",
       "1      (6, 6)      1.000008e-06        6.000046e-07\n",
       "2      (8, 8)      5.000038e-07        4.000030e-07\n",
       "3    (10, 10)      2.400018e-06        5.000038e-07\n",
       "4  (100, 100)      2.599903e-06        4.000030e-07"
      ]
     },
     "execution_count": 2,
     "metadata": {},
     "output_type": "execute_result"
    }
   ],
   "source": [
    "df = pd.DataFrame({\n",
    "    'Numeros': numeros,\n",
    "    'Tiempo Karatsuba': tiempos_karatsuba,\n",
    "    'Tiempo Tradicional': tiempos_tradicional\n",
    "})\n",
    "df"
   ]
  },
  {
   "cell_type": "code",
   "execution_count": 3,
   "metadata": {},
   "outputs": [
    {
     "data": {
      "image/png": "[encoded data removed]",
      "text/plain": [
       "<Figure size 640x480 with 1 Axes>"
      ]
     },
     "metadata": {},
     "output_type": "display_data"
    }
   ],
   "source": [
    "x_labels = [str(n) for n in numeros]\n",
    "plt.plot(range(len(numeros)), tiempos_karatsuba, marker='o', label='Karatsuba')\n",
    "plt.plot(range(len(numeros)), tiempos_tradicional, marker='o', label='Tradicional')\n",
    "plt.xticks(range(len(numeros)), x_labels)\n",
    "plt.xlabel('Numeros')\n",
    "plt.ylabel('Tiempo (segundos)')\n",
    "plt.title('Comparación de tiempos')\n",
    "plt.legend()\n",
    "plt.show()"
   ]
  },
  {
   "attachments": {},
   "cell_type": "markdown",
   "metadata": {},
   "source": [
    "***\n",
    "# Conclusión:\n",
    "Aunque las graficas no sean tan exactas (debido al lenguaje), si podemos observar como a mayor crecimiento\n",
    "de los numeros, la diferencia se remarca aún más, esto es porque la compeljidad de la manera tradicional \n",
    "es cuadrática. Con ello, podemos asesgurar que la el algoritmo de Karatsuba es mucho más eficientes\n",
    "pero a las situaciones de un programador, realmente solo sería util si se utilizan demasidas multiplicaciones,\n",
    "esto es porque a pesar de ser cuadratica, n sigue representando log2(num)."
   ]
  },
  {
   "cell_type": "markdown",
   "metadata": {},
   "source": []
  }
 ],
 "metadata": {
  "kernelspec": {
   "display_name": "Python 3",
   "language": "python",
   "name": "python3"
  },
  "language_info": {
   "codemirror_mode": {
    "name": "ipython",
    "version": 3
   },
   "file_extension": ".py",
   "mimetype": "text/x-python",
   "name": "python",
   "nbconvert_exporter": "python",
   "pygments_lexer": "ipython3",
   "version": "3.11.2"
  },
  "orig_nbformat": 4
 },
 "nbformat": 4,
 "nbformat_minor": 2
}
