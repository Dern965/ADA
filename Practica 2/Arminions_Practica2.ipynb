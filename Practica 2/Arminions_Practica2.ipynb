{
 "cells": [
  {
   "attachments": {},
   "cell_type": "markdown",
   "id": "e96166c5-ccc9-4c40-ba33-c745e200adde",
   "metadata": {},
   "source": [
    "# Practica 2"
   ]
  },
  {
   "cell_type": "markdown",
   "id": "6b3d6a76-6b0c-40e2-8ea5-9f44211425bf",
   "metadata": {},
   "source": [
    "## Integrantes"
   ]
  },
  {
   "attachments": {},
   "cell_type": "markdown",
   "id": "3d22bb3c-6f41-4aaa-ad45-85edf16d9b12",
   "metadata": {},
   "source": [
    "* Garcia Saavedra Armando\n",
    "* Mejia Yañez Jose Ehecatl\n",
    "* Rodriguez Nuñez Diego Eduardo"
   ]
  },
  {
   "attachments": {},
   "cell_type": "markdown",
   "id": "9240592e",
   "metadata": {},
   "source": [
    "***\n",
    "## Introducción\n",
    "\n",
    "El Merge Sort recursivo es un algoritmo de ordenamiento que divide una lista en dos mitades, las ordena recursivamente y luego combina las mitades ordenadas en una sola lista ordenada.\n",
    "\n",
    "El proceso se lleva a cabo en tres etapas:\n",
    "\n",
    "1. Dividir la lista original en dos mitades: Se divide la lista original en dos partes iguales hasta que quede un solo elemento en cada mitad.\n",
    "\n",
    "2. Ordenar las mitades recursivamente: Se ordena cada una de las mitades de manera recursiva, dividiendo cada una en dos mitades más pequeñas hasta que queden ordenadas.\n",
    "\n",
    "3. Combinar las mitades ordenadas: Se combinan las dos mitades ordenadas en una sola lista ordenada. Este proceso implica comparar los elementos de ambas listas, eligiendo el más pequeño y agregándolo a la lista combinada. Este proceso se repite hasta que se hayan agregado todos los elementos de ambas mitades.\n",
    "\n",
    "El Merge Sort es un algoritmo muy eficiente, ya que tiene una complejidad de tiempo de O(n log n) para el peor caso y también es estable, lo que significa que mantiene el orden relativo de los elementos iguales.\n",
    "\n",
    "El Quicksort recursivo es un algoritmo de ordenamiento que utiliza la estrategia de divide y vencerás para ordenar una lista de elementos. El algoritmo selecciona un elemento de la lista, llamado \"pivote\", y divide la lista en dos partes: una parte con elementos menores o iguales que el pivote y otra con elementos mayores que el pivote. Luego, se ordenan de manera recursiva las dos partes de la lista.\n",
    "\n",
    "El proceso se lleva a cabo en tres etapas:\n",
    "\n",
    "1. Selección del pivote: Se selecciona un elemento de la lista, generalmente el primer elemento, como pivote.\n",
    "\n",
    "2. Partición de la lista: Se divide la lista en dos partes, una con elementos menores o iguales al pivote y otra con elementos mayores que el pivote. Para esto se compara cada elemento de la lista con el pivote y se los ubica en la lista correspondiente.\n",
    "\n",
    "3. Ordenación recursiva: Se ordenan de manera recursiva las dos partes de la lista, utilizando el mismo proceso de selección de pivote y partición. El proceso se repite hasta que la lista esté completamente ordenada.\n",
    "\n",
    "El Quicksort es un algoritmo muy eficiente, con una complejidad de tiempo de O(n log n) en el caso promedio, aunque en el peor caso puede tener una complejidad de O(n^2). La elección del pivote es un factor crítico en el rendimiento del algoritmo. Por lo tanto, existen varias estrategias para seleccionar el pivote, como elegir el elemento central de la lista o seleccionar un elemento aleatorio."
   ]
  },
  {
   "attachments": {},
   "cell_type": "markdown",
   "id": "6bba6bed",
   "metadata": {},
   "source": [
    "***\n",
    "## Metodología\n",
    "\n",
    "La recursividad es una característica fundamental de estos algoritmos, ya que permite resolver problemas complejos dividiéndolos en subproblemas más pequeños y más simples. Además, en ambos algoritmos, la recursividad se aplica de forma eficiente para lograr una complejidad de tiempo óptima para el problema de ordenación."
   ]
  },
  {
   "cell_type": "code",
   "execution_count": 1,
   "id": "aa7198f3-3e82-4816-8b57-16b6171b685b",
   "metadata": {
    "tags": []
   },
   "outputs": [],
   "source": [
    "import numpy as np"
   ]
  },
  {
   "cell_type": "code",
   "execution_count": 2,
   "id": "275f63f4-4abd-4e3b-9021-bd71df13048c",
   "metadata": {
    "tags": []
   },
   "outputs": [],
   "source": [
    "import matplotlib.pyplot as plt"
   ]
  },
  {
   "cell_type": "code",
   "execution_count": 3,
   "id": "f8bfc2aa-e580-4713-a727-2a7f3ef2bac9",
   "metadata": {
    "tags": []
   },
   "outputs": [],
   "source": [
    "import timeit"
   ]
  },
  {
   "cell_type": "code",
   "execution_count": 4,
   "id": "f1445851-ee98-4923-9578-4423e8e88242",
   "metadata": {
    "tags": []
   },
   "outputs": [],
   "source": [
    "def merge(arr_i,arr_d):\n",
    "    i=j=k=0\n",
    "    arreglo = np.zeros(len(arr_i)+len(arr_d))\n",
    "    while i < len(arr_i) and j < len(arr_d):\n",
    "        if arr_i[i] < arr_d[j]:\n",
    "            arreglo[k] = arr_i[i]\n",
    "            i += 1\n",
    "        else:\n",
    "            arreglo[k] = arr_d[j]\n",
    "            j += 1\n",
    "        k += 1\n",
    "\n",
    "    while i < len(arr_i):\n",
    "        arreglo[k] = arr_i[i]\n",
    "        i += 1\n",
    "        k += 1\n",
    "\n",
    "    while j < len(arr_d):\n",
    "        arreglo[k] = arr_d[j]\n",
    "        j += 1\n",
    "        k += 1\n",
    "    return arreglo"
   ]
  },
  {
   "cell_type": "code",
   "execution_count": 5,
   "id": "02cc2e7c-7377-4c90-823c-9198aa9a51be",
   "metadata": {
    "tags": []
   },
   "outputs": [],
   "source": [
    "def sort(arr):\n",
    "    if len(arr) <= 1:\n",
    "        return arr\n",
    "    \n",
    "    mid= len(arr) // 2\n",
    "    arr_i = sort(arr[:mid])\n",
    "    arr_d = sort(arr[mid:])\n",
    "\n",
    "    return merge(arr_i,arr_d)"
   ]
  },
  {
   "cell_type": "code",
   "execution_count": 6,
   "id": "c930aa1d-1c37-4bcd-91b7-418e44c171a9",
   "metadata": {
    "tags": []
   },
   "outputs": [],
   "source": [
    "def quicksort(arr):\n",
    "    if len(arr) <= 1:\n",
    "        return arr\n",
    "    else:\n",
    "        pivote = arr[0]\n",
    "        mayor = []\n",
    "        menor = []\n",
    "        for i in range(1,len(arr)):\n",
    "            if arr[i] < pivote:\n",
    "                menor.append(arr[i])\n",
    "            else:\n",
    "                mayor.append(arr[i])\n",
    "        return quicksort(menor)+[pivote]+quicksort(mayor)"
   ]
  },
  {
   "cell_type": "code",
   "execution_count": 7,
   "id": "1a809978-44aa-404a-8754-7ee179d17f86",
   "metadata": {
    "tags": []
   },
   "outputs": [],
   "source": [
    "tams = [10,100,1000,10000,1000000,10000000]"
   ]
  },
  {
   "cell_type": "code",
   "execution_count": 8,
   "id": "4cada6a4-235a-49fd-b3ef-f561e4bb7967",
   "metadata": {
    "tags": []
   },
   "outputs": [],
   "source": [
    "mergesort_tiempos = []\n",
    "quicksort_tiempos = []\n",
    "numpysort_tiempos = []"
   ]
  },
  {
   "cell_type": "code",
   "execution_count": 9,
   "id": "b498b810-1db9-47b7-a111-0987e9999453",
   "metadata": {
    "tags": []
   },
   "outputs": [],
   "source": [
    "for tam in tams:\n",
    "    arr = np.random.randint(0,100000,tam)\n",
    "    mergesort_tiempo = timeit.timeit('sort(arr)', number = 1, globals=globals())\n",
    "    quicksort_tiempo = timeit.timeit('quicksort(arr)', number = 1, globals=globals())\n",
    "    mergesort_tiempos.append(mergesort_tiempo)\n",
    "    quicksort_tiempos.append(quicksort_tiempo)"
   ]
  },
  {
   "cell_type": "code",
   "execution_count": 10,
   "id": "09e04f49-e09e-43d5-8654-7547fa2227ee",
   "metadata": {
    "tags": []
   },
   "outputs": [
    {
     "data": {
      "image/png": "[encoded data removed]",
      "text/plain": [
       "<Figure size 640x480 with 1 Axes>"
      ]
     },
     "metadata": {},
     "output_type": "display_data"
    }
   ],
   "source": [
    "plt.plot(tams,mergesort_tiempos,label='Mergesort')\n",
    "plt.plot(tams,quicksort_tiempos,label='Quicksort')\n",
    "plt.xlabel(\"Tamaño del arreglo\")\n",
    "plt.ylabel(\"Tiempo (segundos)\")\n",
    "plt.legend()\n",
    "plt.show()"
   ]
  },
  {
   "cell_type": "code",
   "execution_count": 11,
   "id": "2fcb776b-2946-472d-8480-922cb0b0ae40",
   "metadata": {},
   "outputs": [
    {
     "data": {
      "text/plain": [
       "[4.0800077840685844e-05,\n",
       " 0.0003090000245720148,\n",
       " 0.004620100022293627,\n",
       " 0.053094099974259734,\n",
       " 7.8443609001114964,\n",
       " 87.69695100001991]"
      ]
     },
     "execution_count": 11,
     "metadata": {},
     "output_type": "execute_result"
    }
   ],
   "source": [
    "mergesort_tiempos"
   ]
  },
  {
   "cell_type": "code",
   "execution_count": 12,
   "id": "ae945060-fef0-4a0d-9f2c-a2e8e1027e8e",
   "metadata": {
    "tags": []
   },
   "outputs": [
    {
     "data": {
      "text/plain": [
       "[1.2899981811642647e-05,\n",
       " 9.839993435889482e-05,\n",
       " 0.0011143999872729182,\n",
       " 0.0149478999665007,\n",
       " 3.3193446000805125,\n",
       " 75.72504529997241]"
      ]
     },
     "execution_count": 12,
     "metadata": {},
     "output_type": "execute_result"
    }
   ],
   "source": [
    "quicksort_tiempos"
   ]
  },
  {
   "cell_type": "code",
   "execution_count": 13,
   "id": "7e442c31-bd94-46a5-aaf6-e82fd5719493",
   "metadata": {},
   "outputs": [],
   "source": [
    "import pandas as pd"
   ]
  },
  {
   "cell_type": "code",
   "execution_count": 14,
   "id": "36b100c0",
   "metadata": {},
   "outputs": [
    {
     "data": {
      "text/html": [
       "<div>\n",
       "<style scoped>\n",
       "    .dataframe tbody tr th:only-of-type {\n",
       "        vertical-align: middle;\n",
       "    }\n",
       "\n",
       "    .dataframe tbody tr th {\n",
       "        vertical-align: top;\n",
       "    }\n",
       "\n",
       "    .dataframe thead th {\n",
       "        text-align: right;\n",
       "    }\n",
       "</style>\n",
       "<table border=\"1\" class=\"dataframe\">\n",
       "  <thead>\n",
       "    <tr style=\"text-align: right;\">\n",
       "      <th></th>\n",
       "      <th>Tiempos Mergesort</th>\n",
       "      <th>Tiempos Quicksort</th>\n",
       "    </tr>\n",
       "    <tr>\n",
       "      <th>Tamaños de los arreglos</th>\n",
       "      <th></th>\n",
       "      <th></th>\n",
       "    </tr>\n",
       "  </thead>\n",
       "  <tbody>\n",
       "    <tr>\n",
       "      <th>10</th>\n",
       "      <td>0.000041</td>\n",
       "      <td>0.000013</td>\n",
       "    </tr>\n",
       "    <tr>\n",
       "      <th>100</th>\n",
       "      <td>0.000309</td>\n",
       "      <td>0.000098</td>\n",
       "    </tr>\n",
       "    <tr>\n",
       "      <th>1000</th>\n",
       "      <td>0.004620</td>\n",
       "      <td>0.001114</td>\n",
       "    </tr>\n",
       "    <tr>\n",
       "      <th>10000</th>\n",
       "      <td>0.053094</td>\n",
       "      <td>0.014948</td>\n",
       "    </tr>\n",
       "    <tr>\n",
       "      <th>1000000</th>\n",
       "      <td>7.844361</td>\n",
       "      <td>3.319345</td>\n",
       "    </tr>\n",
       "    <tr>\n",
       "      <th>10000000</th>\n",
       "      <td>87.696951</td>\n",
       "      <td>75.725045</td>\n",
       "    </tr>\n",
       "  </tbody>\n",
       "</table>\n",
       "</div>"
      ],
      "text/plain": [
       "                         Tiempos Mergesort  Tiempos Quicksort\n",
       "Tamaños de los arreglos                                      \n",
       "10                                0.000041           0.000013\n",
       "100                               0.000309           0.000098\n",
       "1000                              0.004620           0.001114\n",
       "10000                             0.053094           0.014948\n",
       "1000000                           7.844361           3.319345\n",
       "10000000                         87.696951          75.725045"
      ]
     },
     "execution_count": 14,
     "metadata": {},
     "output_type": "execute_result"
    }
   ],
   "source": [
    "data = {\n",
    "    'Tiempos Mergesort': mergesort_tiempos,\n",
    "    'Tiempos Quicksort': quicksort_tiempos,\n",
    "    'Tamaños de los arreglos': tams\n",
    "}\n",
    "\n",
    "df= pd.DataFrame(data)\n",
    "df.set_index('Tamaños de los arreglos',inplace=True)\n",
    "df"
   ]
  },
  {
   "attachments": {},
   "cell_type": "markdown",
   "id": "a14b7671",
   "metadata": {},
   "source": [
    "***\n",
    "# Conclusión"
   ]
  },
  {
   "attachments": {},
   "cell_type": "markdown",
   "id": "31610c56",
   "metadata": {},
   "source": [
    "Dados los resultados y calculando su complejidad temporal de los algoritmos, podemos concluir que son radicalmente mas eficientes que los metodos directos de ordenamiento, esto debido a que se compara una complejidad de O(nlogn) contra O(n^2).\n",
    "\n",
    "Por otra parte , en su complejidad espacial, el algoritmo merge sort, debe disponer de mayor espacio que los algoritmos convencionales, contrastando O(nlogn) y O(n), sin embargo, el algoritmo quick sort O(n), no posee dicho problema.\n",
    "\n",
    "Es asi como los ya mencionados algoritmos son en cualquiera de los casos mas eficientes que los metodos directos"
   ]
  },
  {
   "cell_type": "markdown",
   "id": "44fe9395",
   "metadata": {},
   "source": [
    "***\n",
    "# Caracteristicas del Equipo\n",
    "\n",
    "Procesador: 11th Gen Intel(R) Core(TM) i5-11400H @ 2.70GHz   2.69 GHz\n",
    "\n",
    "RAM instalada: 32 GB (31.7 Utilizable)\n",
    "\n",
    "Sistema Operativo: Windows 11, Sistema operativo de 64 bits, procesador x64"
   ]
  }
 ],
 "metadata": {
  "kernelspec": {
   "display_name": "Python 3 (ipykernel)",
   "language": "python",
   "name": "python3"
  },
  "language_info": {
   "codemirror_mode": {
    "name": "ipython",
    "version": 3
   },
   "file_extension": ".py",
   "mimetype": "text/x-python",
   "name": "python",
   "nbconvert_exporter": "python",
   "pygments_lexer": "ipython3",
   "version": "3.11.2"
  }
 },
 "nbformat": 4,
 "nbformat_minor": 5
}
