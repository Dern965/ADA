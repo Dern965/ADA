{
 "cells": [
  {
   "cell_type": "code",
   "execution_count": 1,
   "metadata": {},
   "outputs": [
    {
     "name": "stdout",
     "output_type": "stream",
     "text": [
      "Found a subset with given sum: 8\n",
      "[(3, 5), (1, 5, 2)]\n",
      "(Recursivo) Found a subset with the given sum: 8\n",
      "[(3, 5), (1, 5, 2)]\n"
     ]
    }
   ],
   "source": [
    "import more_itertools\n",
    "\n",
    "def isSubsetSum(set, n, target_sum):\n",
    "    subset = [[False for _ in range(target_sum + 1)] for _ in range(n + 1)]\n",
    "\n",
    "    for i in range(n + 1):\n",
    "        subset[i][0] = True\n",
    "\n",
    "    for i in range(1, target_sum + 1):\n",
    "        subset[0][i] = False\n",
    "\n",
    "    for i in range(1, n + 1):\n",
    "        for j in range(1, target_sum + 1):\n",
    "            if j < set[i - 1]:\n",
    "                subset[i][j] = subset[i - 1][j]\n",
    "            if j >= set[i - 1]:\n",
    "                subset[i][j] = subset[i - 1][j] or subset[i - 1][j - set[i - 1]]\n",
    "\n",
    "    return subset[n][target_sum]\n",
    "\n",
    "def issubsetsum(set, n, sum):\n",
    "    # Base Cases\n",
    "    if (sum == 0):\n",
    "        return True\n",
    "    if (n == 0):\n",
    "        return False\n",
    "\n",
    "    # If last element is greater than\n",
    "    # sum, then ignore it\n",
    "    if (set[n - 1] > sum):\n",
    "        return issubsetsum(set, n - 1, sum)\n",
    "\n",
    "    # Else, check if sum can be obtained\n",
    "    # by any of the following\n",
    "    # (a) including the last element\n",
    "    # (b) excluding the last element\n",
    "    return issubsetsum(set, n - 1, sum) or issubsetsum(set, n - 1, sum - set[n - 1])\n",
    "\n",
    "set = [3, 20, 1, 12, 5, 2]\n",
    "target_sum = 8\n",
    "n = len(set)\n",
    "if isSubsetSum(set, n, target_sum):\n",
    "    print(\"Found a subset with given sum:\" ,target_sum)\n",
    "    result = [subset for subset in more_itertools.powerset(set) if sum(subset) == target_sum]\n",
    "    print(result)\n",
    "else:\n",
    "    print(\"No subset with given sum\")\n",
    "\n",
    "if issubsetsum(set, n, target_sum):\n",
    "    print(\"(Recursivo) Found a subset with the given sum:\", target_sum)\n",
    "    result = [subset for subset in more_itertools.powerset(set) if sum(subset) == target_sum]\n",
    "    print(result)\n",
    "else:\n",
    "    print(\"issubsetsum: No subset with the given sum\")\n"
   ]
  }
 ],
 "metadata": {
  "kernelspec": {
   "display_name": "Python 3",
   "language": "python",
   "name": "python3"
  },
  "language_info": {
   "codemirror_mode": {
    "name": "ipython",
    "version": 3
   },
   "file_extension": ".py",
   "mimetype": "text/x-python",
   "name": "python",
   "nbconvert_exporter": "python",
   "pygments_lexer": "ipython3",
   "version": "3.11.2"
  },
  "orig_nbformat": 4
 },
 "nbformat": 4,
 "nbformat_minor": 2
}
