{
 "cells": [
  {
   "cell_type": "markdown",
   "metadata": {},
   "source": [
    "# Práctica 5"
   ]
  },
  {
   "cell_type": "markdown",
   "metadata": {},
   "source": [
    "## Integrantes:"
   ]
  },
  {
   "cell_type": "markdown",
   "metadata": {},
   "source": [
    "\n",
    "- García Saavedra Armando\n",
    "- Mejía Yañez José Ehecatl\n",
    "- Rodriguez Nuñez Diego Eduardo"
   ]
  },
  {
   "cell_type": "markdown",
   "metadata": {},
   "source": [
    "***\n",
    "# Introduccion"
   ]
  },
  {
   "cell_type": "markdown",
   "metadata": {},
   "source": [
    "El problema de la mochila 0-1 consiste en seleccionar un conjunto de elementos, cada uno con un peso y un valor asociado, para colocarlos en una mochila de capacidad limitada. El objetivo es maximizar el valor total de los elementos seleccionados sin exceder la capacidad de la mochila. Se utiliza la programación dinámica para resolver este problema, construyendo una matriz que almacena los valores óptimos para subproblemas más pequeños. Al final, se obtiene el valor máximo y la lista de elementos seleccionados que logran ese valor máximo."
   ]
  },
  {
   "cell_type": "code",
   "execution_count": 27,
   "metadata": {},
   "outputs": [],
   "source": [
    "import pandas as pd\n",
    "import matplotlib.pyplot as plt\n",
    "def mochila_01_dp(pesos, valores, capacidad):\n",
    "    n = len(pesos)\n",
    "    dp = [[0] * (capacidad + 1) for _ in range(n + 1)]\n",
    "    max_valores_dp = []  # Almacenar los valores máximos en cada iteración\n",
    "\n",
    "    for i in range(1, n + 1):\n",
    "        for j in range(1, capacidad + 1):\n",
    "            if pesos[i - 1] <= j:\n",
    "                dp[i][j] = max(dp[i - 1][j], valores[i - 1] + dp[i - 1][j - pesos[i - 1]])\n",
    "            else:\n",
    "                dp[i][j] = dp[i - 1][j]\n",
    "        max_valores_dp.append(dp[i][capacidad])  # Almacenar el valor máximo en cada iteración\n",
    "\n",
    "    seleccionados = []\n",
    "    i, j = n, capacidad\n",
    "    while i > 0 and j > 0:\n",
    "        if dp[i][j] != dp[i - 1][j]:\n",
    "            seleccionados.append(i - 1)\n",
    "            j -= pesos[i - 1]\n",
    "        i -= 1\n",
    "\n",
    "    seleccionados.reverse()\n",
    "    return dp[n][capacidad], seleccionados, max_valores_dp\n",
    "\n",
    "def mochila_01_greedy(pesos, valores, capacidad):\n",
    "    n = len(pesos)\n",
    "    ratio = [(valores[i] / pesos[i], i) for i in range(n)]\n",
    "    ratio.sort(reverse=True, key=lambda x: x[0])\n",
    "\n",
    "    seleccionados = []\n",
    "    peso_actual = 0\n",
    "    valor_total = 0\n",
    "    max_valores_greedy = []  # Almacenar los valores máximos en cada iteración\n",
    "\n",
    "    for r, idx in ratio:\n",
    "        if peso_actual + pesos[idx] <= capacidad:\n",
    "            seleccionados.append(idx)\n",
    "            peso_actual += pesos[idx]\n",
    "            valor_total += valores[idx]\n",
    "        max_valores_greedy.append(valor_total)  # Almacenar el valor máximo en cada iteración\n",
    "\n",
    "    return valor_total, seleccionados, max_valores_greedy\n",
    "\n",
    "# Datos de entrada\n",
    "pesos = [50, 100, 125, 280, 300]\n",
    "valores = [60, 100, 120, 200, 240]\n",
    "capacidad_mochila = 500\n",
    "\n",
    "# Solución utilizando programación dinámica (DP)\n",
    "max_valor_dp, items_seleccionados_dp, max_valores_dp = mochila_01_dp(pesos, valores, capacidad_mochila)\n",
    "\n",
    "# Solución utilizando greedy\n",
    "max_valor_greedy, items_seleccionados_greedy, max_valores_greedy = mochila_01_greedy(pesos, valores, capacidad_mochila)"
   ]
  },
  {
   "attachments": {},
   "cell_type": "markdown",
   "metadata": {},
   "source": [
    "***\n",
    "# Graficación y tabulación"
   ]
  },
  {
   "attachments": {},
   "cell_type": "markdown",
   "metadata": {},
   "source": [
    "Creamos el dataframe"
   ]
  },
  {
   "cell_type": "code",
   "execution_count": 28,
   "metadata": {},
   "outputs": [
    {
     "data": {
      "text/html": [
       "<div>\n",
       "<style scoped>\n",
       "    .dataframe tbody tr th:only-of-type {\n",
       "        vertical-align: middle;\n",
       "    }\n",
       "\n",
       "    .dataframe tbody tr th {\n",
       "        vertical-align: top;\n",
       "    }\n",
       "\n",
       "    .dataframe thead th {\n",
       "        text-align: right;\n",
       "    }\n",
       "</style>\n",
       "<table border=\"1\" class=\"dataframe\">\n",
       "  <thead>\n",
       "    <tr style=\"text-align: right;\">\n",
       "      <th></th>\n",
       "      <th>Peso</th>\n",
       "      <th>Valor máximo (DP)</th>\n",
       "      <th>Valor máximo (Greedy)</th>\n",
       "    </tr>\n",
       "  </thead>\n",
       "  <tbody>\n",
       "    <tr>\n",
       "      <th>0</th>\n",
       "      <td>50</td>\n",
       "      <td>60</td>\n",
       "      <td>60</td>\n",
       "    </tr>\n",
       "    <tr>\n",
       "      <th>1</th>\n",
       "      <td>100</td>\n",
       "      <td>160</td>\n",
       "      <td>160</td>\n",
       "    </tr>\n",
       "    <tr>\n",
       "      <th>2</th>\n",
       "      <td>125</td>\n",
       "      <td>280</td>\n",
       "      <td>280</td>\n",
       "    </tr>\n",
       "    <tr>\n",
       "      <th>3</th>\n",
       "      <td>280</td>\n",
       "      <td>380</td>\n",
       "      <td>280</td>\n",
       "    </tr>\n",
       "    <tr>\n",
       "      <th>4</th>\n",
       "      <td>300</td>\n",
       "      <td>420</td>\n",
       "      <td>280</td>\n",
       "    </tr>\n",
       "  </tbody>\n",
       "</table>\n",
       "</div>"
      ],
      "text/plain": [
       "   Peso  Valor máximo (DP)  Valor máximo (Greedy)\n",
       "0    50                 60                     60\n",
       "1   100                160                    160\n",
       "2   125                280                    280\n",
       "3   280                380                    280\n",
       "4   300                420                    280"
      ]
     },
     "execution_count": 28,
     "metadata": {},
     "output_type": "execute_result"
    }
   ],
   "source": [
    "# Crear DataFrame con los valores máximos en cada iteración\n",
    "data = {\n",
    "    'Peso': pesos,\n",
    "    'Valor máximo (DP)': max_valores_dp,\n",
    "    'Valor máximo (Greedy)': max_valores_greedy\n",
    "}\n",
    "df = pd.DataFrame(data)\n",
    "df"
   ]
  },
  {
   "attachments": {},
   "cell_type": "markdown",
   "metadata": {},
   "source": [
    "y graficamos"
   ]
  },
  {
   "cell_type": "code",
   "execution_count": 29,
   "metadata": {},
   "outputs": [
    {
     "data": {
      "image/png": "[encoded data removed]",
      "text/plain": [
       "<Figure size 640x480 with 1 Axes>"
      ]
     },
     "metadata": {},
     "output_type": "display_data"
    }
   ],
   "source": [
    "plt.plot(df['Peso'], df['Valor máximo (DP)'], label='Programación dinámica')\n",
    "plt.plot(df['Peso'], df['Valor máximo (Greedy)'], label='Greedy')\n",
    "plt.xlabel('Peso')\n",
    "plt.legend()\n",
    "plt.show()"
   ]
  },
  {
   "attachments": {},
   "cell_type": "markdown",
   "metadata": {},
   "source": [
    "***\n",
    "# Conclusion"
   ]
  },
  {
   "cell_type": "markdown",
   "metadata": {},
   "source": [
    "\n",
    "En resumen, el problema de la mochila 0-1 se puede abordar utilizando dos enfoques: programación dinámica y greedy.\n",
    "\n",
    "La programación dinámica garantiza una solución óptima, ya que evalúa todas las posibles combinaciones y elige la mejor opción en cada paso. Sin embargo, este enfoque puede ser más computacionalmente costoso debido a la construcción de una matriz y los cálculos adicionales requeridos. Es adecuado cuando se busca la solución más óptima y no hay restricciones de tiempo.\n",
    "\n",
    "Por otro lado, el enfoque greedy es más rápido, pero no garantiza una solución óptima en todos los casos. Se basa en tomar decisiones locales óptimas en cada paso, seleccionando el elemento con la mejor relación valor-peso en ese momento. Este enfoque es útil cuando se necesita una solución rápida y aproximada, y las restricciones de tiempo son importantes.\n",
    "\n",
    "La elección entre programación dinámica y greedy depende de los requisitos específicos del problema. Si se requiere una solución óptima y se dispone de suficiente capacidad computacional, la programación dinámica es preferible. Por otro lado, si el tiempo de ejecución es un factor crítico y una solución aproximada es aceptable, el enfoque greedy puede ser más adecuado.\n",
    "\n",
    "En última instancia, la elección del enfoque debe considerar las restricciones de tiempo, la precisión requerida y el tamaño del problema. Cada enfoque tiene sus ventajas y limitaciones, y la mejor opción dependerá de las necesidades específicas de cada situación."
   ]
  }
 ],
 "metadata": {
  "kernelspec": {
   "display_name": "Python 3",
   "language": "python",
   "name": "python3"
  },
  "language_info": {
   "codemirror_mode": {
    "name": "ipython",
    "version": 3
   },
   "file_extension": ".py",
   "mimetype": "text/x-python",
   "name": "python",
   "nbconvert_exporter": "python",
   "pygments_lexer": "ipython3",
   "version": "3.11.2"
  },
  "orig_nbformat": 4
 },
 "nbformat": 4,
 "nbformat_minor": 2
}
